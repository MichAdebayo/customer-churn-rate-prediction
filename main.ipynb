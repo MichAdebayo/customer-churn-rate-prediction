{
 "cells": [
  {
   "cell_type": "code",
   "execution_count": null,
   "id": "48d15325",
   "metadata": {
    "vscode": {
     "languageId": "plaintext"
    }
   },
   "outputs": [],
   "source": [
    "# Code here"
   ]
  }
 ],
 "metadata": {
  "language_info": {
   "name": "python"
  }
 },
 "nbformat": 4,
 "nbformat_minor": 5
}
