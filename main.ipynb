{
 "cells": [
  {
   "cell_type": "markdown",
   "id": "b5b65b65",
   "metadata": {},
   "source": [
    "### Import dependencies"
   ]
  },
  {
   "cell_type": "code",
   "execution_count": null,
   "id": "48d15325",
   "metadata": {},
   "outputs": [],
   "source": [
    "import numpy as np\n",
    "import seaborn as sns\n",
    "import matplotlib.pyplot as plt\n",
    "import pandas as pd"
   ]
  },
  {
   "cell_type": "markdown",
   "id": "5a8806ce",
   "metadata": {},
   "source": [
    "### Read raw data"
   ]
  },
  {
   "cell_type": "code",
   "execution_count": null,
   "id": "a2f5123d",
   "metadata": {},
   "outputs": [],
   "source": [
    "# Load raw data\n",
    "df = pd.read_csv(\"WA_Fn-UseC_-Telco-Customer-Churn.csv\")\n",
    "\n",
    "# Read first five rows of dataframe\n",
    "df.head()"
   ]
  },
  {
   "cell_type": "markdown",
   "id": "73fb0428",
   "metadata": {},
   "source": [
    "### Check for missing data"
   ]
  },
  {
   "cell_type": "code",
   "execution_count": null,
   "id": "3179f8df",
   "metadata": {},
   "outputs": [],
   "source": [
    "df.isna().sum()"
   ]
  },
  {
   "cell_type": "markdown",
   "id": "83e01613",
   "metadata": {},
   "source": [
    "### One-Hot Encode Features"
   ]
  },
  {
   "cell_type": "code",
   "execution_count": null,
   "id": "349bf014",
   "metadata": {},
   "outputs": [],
   "source": [
    "# Encode binary features\n",
    "df['gender_encoded'] = df['gender'].apply(lambda x: 0 if x == \"Female\" else 1)\n",
    "df['Partner_encoded'] = df['Partner'].apply(lambda x: 0 if x == \"No\" else 1)\n",
    "df['Dependents_encoded'] = df['Dependents'].apply(lambda x: 0 if x == \"No\" else 1)\n",
    "df['PhoneService_encoded'] = df['PhoneService'].apply(lambda x: 0 if x == \"No\" else 1)\n",
    "df['PaperlessBilling_encoded'] = df['PaperlessBilling'].apply(lambda x: 0 if x == \"No\" else 1)\n",
    "df['Churn_encoded'] = df['Churn'].apply(lambda x: 0 if x == \"No\" else 1)"
   ]
  },
  {
   "cell_type": "markdown",
   "id": "13dbc8a1",
   "metadata": {},
   "source": [
    "### Label Encode Features"
   ]
  },
  {
   "cell_type": "code",
   "execution_count": null,
   "id": "3ef58a45",
   "metadata": {},
   "outputs": [],
   "source": [
    "from sklearn.preprocessing import LabelEncoder\n",
    "pd.set_option(\"display.max_columns\", None)\n",
    "\n",
    "features_to_label_encode = ['MultipleLines', 'InternetService', 'OnlineSecurity', 'OnlineBackup', \n",
    "                            'DeviceProtection',  'TechSupport', 'StreamingTV', 'StreamingMovies',\n",
    "                             'Contract', 'PaymentMethod',]\n",
    "\n",
    "def apply_label_encoding(df, list_features):\n",
    "    le = LabelEncoder()\n",
    "\n",
    "    for feature in list_features:\n",
    "        df[f'{feature}_encoded'] = le.fit_transform(df[feature])\n",
    "    \n",
    "    return df\n",
    "\n",
    "apply_label_encoding(df, features_to_label_encode)"
   ]
  }
 ],
 "metadata": {
  "kernelspec": {
   "display_name": ".venv",
   "language": "python",
   "name": "python3"
  },
  "language_info": {
   "name": "python",
   "version": "3.12.3"
  }
 },
 "nbformat": 4,
 "nbformat_minor": 5
}
