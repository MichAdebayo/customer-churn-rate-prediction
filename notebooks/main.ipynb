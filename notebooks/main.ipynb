{
 "cells": [
  {
   "cell_type": "markdown",
   "id": "b5b65b65",
   "metadata": {},
   "source": [
    "## Import dependencies"
   ]
  },
  {
   "cell_type": "code",
   "execution_count": null,
   "id": "48d15325",
   "metadata": {},
   "outputs": [],
   "source": [
    "import numpy as np\n",
    "import seaborn as sns\n",
    "import matplotlib.pyplot as plt\n",
    "import pandas as pd"
   ]
  },
  {
   "cell_type": "markdown",
   "id": "dab82061",
   "metadata": {},
   "source": [
    "## Load Data"
   ]
  },
  {
   "cell_type": "markdown",
   "id": "5a8806ce",
   "metadata": {},
   "source": [
    "### Read raw data"
   ]
  },
  {
   "cell_type": "code",
   "execution_count": null,
   "id": "a2f5123d",
   "metadata": {},
   "outputs": [],
   "source": [
    "# Load raw data\n",
    "df = pd.read_csv(\"../data/WA_Fn-UseC_-Telco-Customer-Churn.csv\")\n",
    "\n",
    "# Read first five rows of dataframe\n",
    "df.head()"
   ]
  },
  {
   "cell_type": "markdown",
   "id": "895f3dcc",
   "metadata": {},
   "source": [
    "## Data Cleaning"
   ]
  },
  {
   "cell_type": "markdown",
   "id": "73fb0428",
   "metadata": {},
   "source": [
    "### Check for missing data"
   ]
  },
  {
   "cell_type": "code",
   "execution_count": null,
   "id": "3179f8df",
   "metadata": {},
   "outputs": [],
   "source": [
    "df.isna().sum()"
   ]
  },
  {
   "cell_type": "markdown",
   "id": "1857cc98",
   "metadata": {},
   "source": [
    "### Convert 'TotalCharges' and 'MonthlyCharges' to float"
   ]
  },
  {
   "cell_type": "code",
   "execution_count": null,
   "id": "9884d3b2",
   "metadata": {},
   "outputs": [],
   "source": [
    "df['TotalCharges'] = df['TotalCharges'].apply(lambda x: 0.0 if x == ' ' else float(x))"
   ]
  },
  {
   "cell_type": "markdown",
   "id": "68947d77",
   "metadata": {},
   "source": [
    "## Feature Engineering"
   ]
  },
  {
   "cell_type": "markdown",
   "id": "83e01613",
   "metadata": {},
   "source": [
    "### One-Hot Encode Features"
   ]
  },
  {
   "cell_type": "code",
   "execution_count": null,
   "id": "349bf014",
   "metadata": {},
   "outputs": [],
   "source": [
    "# Encode binary features\n",
    "df['gender_encoded'] = df['gender'].apply(lambda x: 0 if x == \"Female\" else 1)\n",
    "df['Partner_encoded'] = df['Partner'].apply(lambda x: 0 if x == \"No\" else 1)\n",
    "df['Dependents_encoded'] = df['Dependents'].apply(lambda x: 0 if x == \"No\" else 1)\n",
    "df['PhoneService_encoded'] = df['PhoneService'].apply(lambda x: 0 if x == \"No\" else 1)\n",
    "df['PaperlessBilling_encoded'] = df['PaperlessBilling'].apply(lambda x: 0 if x == \"No\" else 1)\n",
    "df['Churn_encoded'] = df['Churn'].apply(lambda x: 0 if x == \"No\" else 1)"
   ]
  },
  {
   "cell_type": "markdown",
   "id": "13dbc8a1",
   "metadata": {},
   "source": [
    "### Label Encode Features"
   ]
  },
  {
   "cell_type": "code",
   "execution_count": null,
   "id": "3ef58a45",
   "metadata": {},
   "outputs": [],
   "source": [
    "from sklearn.preprocessing import LabelEncoder\n",
    "pd.set_option(\"display.max_columns\", None)\n",
    "\n",
    "features_to_label_encode = ['MultipleLines', 'InternetService', 'OnlineSecurity', 'OnlineBackup', \n",
    "                            'DeviceProtection',  'TechSupport', 'StreamingTV', 'StreamingMovies',\n",
    "                             'Contract', 'PaymentMethod',]\n",
    "\n",
    "def apply_label_encoding(df, list_features):\n",
    "    le = LabelEncoder()\n",
    "\n",
    "    for feature in list_features:\n",
    "        df[f'{feature}_encoded'] = le.fit_transform(df[feature])\n",
    "    \n",
    "    return df\n",
    "\n",
    "apply_label_encoding(df, features_to_label_encode)"
   ]
  },
  {
   "cell_type": "markdown",
   "id": "a847e9f5",
   "metadata": {},
   "source": [
    "## Feature Selection "
   ]
  },
  {
   "cell_type": "code",
   "execution_count": null,
   "id": "89f33a3e",
   "metadata": {},
   "outputs": [],
   "source": [
    "# Recreate dataframe with\n",
    "df_features = df[['Churn_encoded', 'gender_encoded','SeniorCitizen', 'Partner_encoded', 'Dependents_encoded',\n",
    "                  'tenure', 'PhoneService_encoded', 'MultipleLines_encoded', 'InternetService_encoded',\n",
    "                  'OnlineSecurity_encoded', 'OnlineBackup_encoded', 'DeviceProtection_encoded', 'TechSupport_encoded',\n",
    "                  'StreamingTV_encoded', 'StreamingMovies_encoded', 'Contract_encoded','PaperlessBilling_encoded',\n",
    "                  'PaymentMethod_encoded','MonthlyCharges', 'TotalCharges',\n",
    "                  ]].copy()"
   ]
  },
  {
   "cell_type": "code",
   "execution_count": null,
   "id": "2c4156c9",
   "metadata": {},
   "outputs": [],
   "source": [
    "# Reset the index to ensure sequential indexing\n",
    "df_features = df_features.reset_index(drop=True)\n",
    "\n",
    "plt.figure(figsize=(12, 10))\n",
    "sns.heatmap(df_features.corr(), \n",
    "            annot=True,\n",
    "            cmap=\"Blues\",\n",
    "            fmt=\".2f\",\n",
    "            linewidths=.5,\n",
    "            square=True,\n",
    "            cbar_kws={\"shrink\": .8}\n",
    "        )\n",
    "\n",
    "# Add labels, title, and adjust axes params\n",
    "plt.title(\"Heat map of correlation matrix\", fontsize=13, weight=\"bold\")\n",
    "plt.xlabel('Feature', fontsize=10)\n",
    "plt.ylabel('Feature', fontsize=10)\n",
    "plt.xticks(fontsize=8, rotation=45, ha='right')\n",
    "plt.yticks(fontsize=8)\n",
    "plt.tight_layout()\n",
    "plt.show()"
   ]
  },
  {
   "cell_type": "code",
   "execution_count": null,
   "id": "d345d3e3",
   "metadata": {},
   "outputs": [],
   "source": [
    "# Less important features\n",
    "less_important_features = ['gender_encoded', 'PhoneService_encoded', 'MultipleLines_encoded', \n",
    "                           'InternetService_encoded','StreamingTV_encoded', 'StreamingMovies_encoded',]\n",
    "\n",
    "# Important features\n",
    "selected_final_df = df_features['Churn_encoded', 'SeniorCitizen', 'Partner_encoded',\n",
    "                                'Dependents_encoded', 'tenure', 'OnlineSecurity_encoded', 'OnlineBackup_encoded',\n",
    "                                'DeviceProtection_encoded', 'TechSupport_encoded','Contract_encoded',\n",
    "                                'PaperlessBilling_encoded', 'PaymentMethod_encoded', 'MonthlyCharges',\n",
    "                                'TotalCharges']"
   ]
  }
 ],
 "metadata": {
  "kernelspec": {
   "display_name": ".venv",
   "language": "python",
   "name": "python3"
  },
  "language_info": {
   "name": "python",
   "version": "3.12.3"
  }
 },
 "nbformat": 4,
 "nbformat_minor": 5
}
